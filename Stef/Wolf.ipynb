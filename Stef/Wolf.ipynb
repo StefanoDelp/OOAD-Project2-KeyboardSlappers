{
 "cells": [
  {
   "cell_type": "code",
   "execution_count": 4,
   "metadata": {},
   "outputs": [
    {
     "ename": "ModuleNotFoundError",
     "evalue": "No module named 'Animal'",
     "output_type": "error",
     "traceback": [
      "\u001b[1;31m---------------------------------------------------------------------------\u001b[0m",
      "\u001b[1;31mModuleNotFoundError\u001b[0m                       Traceback (most recent call last)",
      "\u001b[1;32m<ipython-input-4-915c87d91f13>\u001b[0m in \u001b[0;36m<module>\u001b[1;34m()\u001b[0m\n\u001b[1;32m----> 1\u001b[1;33m \u001b[1;32mfrom\u001b[0m \u001b[0mAnimal\u001b[0m\u001b[1;33m.\u001b[0m\u001b[0mipynb\u001b[0m \u001b[1;32mimport\u001b[0m \u001b[1;33m*\u001b[0m\u001b[1;33m\u001b[0m\u001b[0m\n\u001b[0m\u001b[0;32m      2\u001b[0m \u001b[1;33m\u001b[0m\u001b[0m\n\u001b[0;32m      3\u001b[0m \u001b[1;32mclass\u001b[0m \u001b[0mWolf\u001b[0m\u001b[1;33m(\u001b[0m\u001b[0mCanine\u001b[0m\u001b[1;33m)\u001b[0m\u001b[1;33m:\u001b[0m\u001b[1;33m\u001b[0m\u001b[0m\n\u001b[0;32m      4\u001b[0m     \u001b[1;32mdef\u001b[0m \u001b[0mResponse\u001b[0m\u001b[1;33m(\u001b[0m\u001b[1;33m)\u001b[0m\u001b[1;33m:\u001b[0m\u001b[1;33m\u001b[0m\u001b[0m\n\u001b[0;32m      5\u001b[0m         \u001b[0my\u001b[0m \u001b[1;33m=\u001b[0m \u001b[0mrandom\u001b[0m\u001b[1;33m.\u001b[0m\u001b[0mrandint\u001b[0m\u001b[1;33m(\u001b[0m\u001b[1;36m1\u001b[0m\u001b[1;33m,\u001b[0m\u001b[1;36m2\u001b[0m\u001b[1;33m)\u001b[0m\u001b[1;33m\u001b[0m\u001b[0m\n",
      "\u001b[1;31mModuleNotFoundError\u001b[0m: No module named 'Animal'"
     ]
    }
   ],
   "source": [
    "from Animal.ipynb import *\n",
    "\n",
    "class Wolf(Canine):\n",
    "    def Response():\n",
    "        y = random.randint(1,2)\n",
    "        return y\n",
    "    Names = \"\"\n",
    "    food = \"Deer\";\n",
    "    resp  = Response();\n",
    "    def makeNoise(self):\n",
    "        print(\"Howl\")\n",
    "        \n",
    "    def setName(Name):\n",
    "        Names = Name\n",
    "        return Name\n",
    "    \n",
    "    def roam():\n",
    "        if (Response() == 1):\n",
    "            return (\"Wolf roamed.\")\n",
    "        else:\n",
    "            return (\"Wolf did not roam.\")\n",
    "        \n",
    "    def eat():\n",
    "        if(Response() == 1):\n",
    "            return (\"Tiger ate.\")\n",
    "        else: \n",
    "            return (\"Wolf did not want to eat.\")\n",
    "        \n",
    "    def sleep():\n",
    "        if(Response() == 1):\n",
    "            return (\"Wolf is sleeping.\") \n",
    "        \n",
    "        else:\n",
    "            return (\"Wolf did not want to sleep.\") \n",
    "         \n",
    "     \n",
    "    def wakeUp(): \n",
    "        if(Response() == 1):  \n",
    "            return (\"Wolf is awake.\") \n",
    "        else: \n",
    "            return (\"Wolf did not want to wake up.\")\n",
    "        \n",
    "Rico = Wolf()\n",
    "Rico.MakeNoise()"
   ]
  },
  {
   "cell_type": "code",
   "execution_count": null,
   "metadata": {},
   "outputs": [],
   "source": []
  }
 ],
 "metadata": {
  "kernelspec": {
   "display_name": "Python 3",
   "language": "python",
   "name": "python3"
  },
  "language_info": {
   "codemirror_mode": {
    "name": "ipython",
    "version": 3
   },
   "file_extension": ".py",
   "mimetype": "text/x-python",
   "name": "python",
   "nbconvert_exporter": "python",
   "pygments_lexer": "ipython3",
   "version": "3.6.5"
  }
 },
 "nbformat": 4,
 "nbformat_minor": 2
}
